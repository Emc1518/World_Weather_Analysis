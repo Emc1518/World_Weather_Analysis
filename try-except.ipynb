{
 "cells": [
  {
   "cell_type": "code",
   "execution_count": 2,
   "metadata": {},
   "outputs": [],
   "source": [
    "import requests as req\n",
    "from config import weather_api_key\n"
   ]
  },
  {
   "cell_type": "code",
   "execution_count": 3,
   "metadata": {},
   "outputs": [],
   "source": [
    "url = \"http://api.openweathermap.org/data/2.5/weather?units=Imperial&APPID=\" + weather_api_key"
   ]
  },
  {
   "cell_type": "code",
   "execution_count": 4,
   "metadata": {},
   "outputs": [],
   "source": [
    "cities = [\"Pittsburgh\", \"Austin\", \"New York\", \"Los Angeles\", \"Seattle\"]"
   ]
  },
  {
   "cell_type": "code",
   "execution_count": 5,
   "metadata": {},
   "outputs": [
    {
     "name": "stdout",
     "output_type": "stream",
     "text": [
      "KeyError received for Pittsburgh\n",
      "KeyError received for Austin\n",
      "KeyError received for New York\n",
      "KeyError received for Los Angeles\n",
      "KeyError received for Seattle\n"
     ]
    }
   ],
   "source": [
    "for city in cities:\n",
    "        try:\n",
    "            city_url = url + \"&q\" + city\n",
    "            weather = req.get(city_url).json()\n",
    "            temp = weather['main']['temp']\n",
    "        except KeyError:\n",
    "            print('KeyError received for ' + city)\n",
    "            continue\n",
    "            \n",
    "        print(\"It is currently\" + str(temp) + \"degrees in\" + city)"
   ]
  },
  {
   "cell_type": "code",
   "execution_count": null,
   "metadata": {},
   "outputs": [],
   "source": []
  }
 ],
 "metadata": {
  "kernelspec": {
   "display_name": "Python 3",
   "language": "python",
   "name": "python3"
  },
  "language_info": {
   "codemirror_mode": {
    "name": "ipython",
    "version": 3
   },
   "file_extension": ".py",
   "mimetype": "text/x-python",
   "name": "python",
   "nbconvert_exporter": "python",
   "pygments_lexer": "ipython3",
   "version": "3.8.5"
  }
 },
 "nbformat": 4,
 "nbformat_minor": 4
}
